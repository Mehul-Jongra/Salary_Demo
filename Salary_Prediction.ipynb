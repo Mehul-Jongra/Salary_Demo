{
 "cells": [
  {
   "cell_type": "code",
   "execution_count": null,
   "id": "d94fda79",
   "metadata": {},
   "outputs": [],
   "source": [
    "import pandas as pd # for data manipulation\n",
    "import numpy as np # for numerical operations\n",
    "import seaborn as sns # for statistical data visualization\n",
    "import matplotlib.pyplot as plt # for plotting"
   ]
  },
  {
   "cell_type": "code",
   "execution_count": 25,
   "id": "5307a42d",
   "metadata": {},
   "outputs": [],
   "source": [
    "from sklearn.model_selection import train_test_split  # For splitting data\n",
    "from sklearn.linear_model import LinearRegression  # For regression model\n",
    "from sklearn.metrics import mean_absolute_error, r2_score  # For evaluation metrics\n",
    "from sklearn.preprocessing import OneHotEncoder # For encoding categorical variables\n",
    "from sklearn.compose import ColumnTransformer # For transforming data\n",
    "from sklearn.pipeline import Pipeline # For creating a machine learning pipeline\n",
    "from sklearn.compose import make_column_transformer # For creating a column transformer"
   ]
  },
  {
   "cell_type": "code",
   "execution_count": null,
   "id": "1b6c42c1",
   "metadata": {},
   "outputs": [],
   "source": [
    "# Lets load the dataset\n",
    "data = pd.read_csv('Salary Data.csv')"
   ]
  },
  {
   "cell_type": "code",
   "execution_count": null,
   "id": "5ed16332",
   "metadata": {},
   "outputs": [
    {
     "name": "stdout",
     "output_type": "stream",
     "text": [
      "    Age  Gender Education Level              Job Title  Years of Experience  \\\n",
      "0  32.0    Male      Bachelor's      Software Engineer                  5.0   \n",
      "1  28.0  Female        Master's           Data Analyst                  3.0   \n",
      "2  45.0    Male             PhD         Senior Manager                 15.0   \n",
      "3  36.0  Female      Bachelor's        Sales Associate                  7.0   \n",
      "4  52.0    Male        Master's               Director                 20.0   \n",
      "5  29.0    Male      Bachelor's      Marketing Analyst                  2.0   \n",
      "6  42.0  Female        Master's        Product Manager                 12.0   \n",
      "7  31.0    Male      Bachelor's          Sales Manager                  4.0   \n",
      "8  26.0  Female      Bachelor's  Marketing Coordinator                  1.0   \n",
      "9  38.0    Male             PhD       Senior Scientist                 10.0   \n",
      "\n",
      "     Salary  \n",
      "0   90000.0  \n",
      "1   65000.0  \n",
      "2  150000.0  \n",
      "3   60000.0  \n",
      "4  200000.0  \n",
      "5   55000.0  \n",
      "6  120000.0  \n",
      "7   80000.0  \n",
      "8   45000.0  \n",
      "9  110000.0  \n"
     ]
    }
   ],
   "source": [
    "# Display the first few rows of the dataset, this will help us understand its structure.\n",
    "print(data.head(10))"
   ]
  },
  {
   "cell_type": "code",
   "execution_count": null,
   "id": "ab2093c3",
   "metadata": {},
   "outputs": [
    {
     "data": {
      "text/plain": [
       "Education Level\n",
       "Bachelor's    224\n",
       "Master's       98\n",
       "PhD            51\n",
       "Name: count, dtype: int64"
      ]
     },
     "execution_count": 6,
     "metadata": {},
     "output_type": "execute_result"
    }
   ],
   "source": [
    "# Here we are checking the unique values in the 'Education Level' column to understand the categories present.\n",
    "data['Education Level'].value_counts()"
   ]
  },
  {
   "cell_type": "code",
   "execution_count": 13,
   "id": "3568e505",
   "metadata": {},
   "outputs": [],
   "source": [
    "# Drop rows with any null values from the DataFrame\n",
    "data = data.dropna()"
   ]
  },
  {
   "cell_type": "code",
   "execution_count": 14,
   "id": "1f95193b",
   "metadata": {},
   "outputs": [
    {
     "name": "stdout",
     "output_type": "stream",
     "text": [
      "<class 'pandas.core.frame.DataFrame'>\n",
      "Index: 373 entries, 0 to 374\n",
      "Data columns (total 6 columns):\n",
      " #   Column               Non-Null Count  Dtype  \n",
      "---  ------               --------------  -----  \n",
      " 0   Age                  373 non-null    float64\n",
      " 1   Gender               373 non-null    object \n",
      " 2   Education Level      373 non-null    object \n",
      " 3   Job Title            373 non-null    object \n",
      " 4   Years of Experience  373 non-null    float64\n",
      " 5   Salary               373 non-null    float64\n",
      "dtypes: float64(3), object(3)\n",
      "memory usage: 20.4+ KB\n",
      "None\n"
     ]
    }
   ],
   "source": [
    "info = data.info()  # Get a concise summary of the DataFrame\n",
    "print(info)\n"
   ]
  },
  {
   "cell_type": "code",
   "execution_count": 11,
   "id": "31ab7cd8",
   "metadata": {},
   "outputs": [
    {
     "name": "stdout",
     "output_type": "stream",
     "text": [
      "Distinct values in 'Gender':\n",
      "['Male' 'Female']\n",
      "\n",
      "Distinct values in 'Education Level':\n",
      "[\"Bachelor's\" \"Master's\" 'PhD']\n",
      "\n",
      "Distinct values in 'Job Title':\n",
      "['Software Engineer' 'Data Analyst' 'Senior Manager' 'Sales Associate'\n",
      " 'Director' 'Marketing Analyst' 'Product Manager' 'Sales Manager'\n",
      " 'Marketing Coordinator' 'Senior Scientist' 'Software Developer'\n",
      " 'HR Manager' 'Financial Analyst' 'Project Manager' 'Customer Service Rep'\n",
      " 'Operations Manager' 'Marketing Manager' 'Senior Engineer'\n",
      " 'Data Entry Clerk' 'Sales Director' 'Business Analyst' 'VP of Operations'\n",
      " 'IT Support' 'Recruiter' 'Financial Manager' 'Social Media Specialist'\n",
      " 'Software Manager' 'Junior Developer' 'Senior Consultant'\n",
      " 'Product Designer' 'CEO' 'Accountant' 'Data Scientist'\n",
      " 'Marketing Specialist' 'Technical Writer' 'HR Generalist'\n",
      " 'Project Engineer' 'Customer Success Rep' 'Sales Executive' 'UX Designer'\n",
      " 'Operations Director' 'Network Engineer' 'Administrative Assistant'\n",
      " 'Strategy Consultant' 'Copywriter' 'Account Manager'\n",
      " 'Director of Marketing' 'Help Desk Analyst' 'Customer Service Manager'\n",
      " 'Business Intelligence Analyst' 'Event Coordinator' 'VP of Finance'\n",
      " 'Graphic Designer' 'UX Researcher' 'Social Media Manager'\n",
      " 'Director of Operations' 'Senior Data Scientist' 'Junior Accountant'\n",
      " 'Digital Marketing Manager' 'IT Manager'\n",
      " 'Customer Service Representative' 'Business Development Manager'\n",
      " 'Senior Financial Analyst' 'Web Developer' 'Research Director'\n",
      " 'Technical Support Specialist' 'Creative Director'\n",
      " 'Senior Software Engineer' 'Human Resources Director'\n",
      " 'Content Marketing Manager' 'Technical Recruiter' 'Sales Representative'\n",
      " 'Chief Technology Officer' 'Junior Designer' 'Financial Advisor'\n",
      " 'Junior Account Manager' 'Senior Project Manager' 'Principal Scientist'\n",
      " 'Supply Chain Manager' 'Senior Marketing Manager' 'Training Specialist'\n",
      " 'Research Scientist' 'Junior Software Developer'\n",
      " 'Public Relations Manager' 'Operations Analyst'\n",
      " 'Product Marketing Manager' 'Senior HR Manager' 'Junior Web Developer'\n",
      " 'Senior Project Coordinator' 'Chief Data Officer'\n",
      " 'Digital Content Producer' 'IT Support Specialist'\n",
      " 'Senior Marketing Analyst' 'Customer Success Manager'\n",
      " 'Senior Graphic Designer' 'Software Project Manager'\n",
      " 'Supply Chain Analyst' 'Senior Business Analyst'\n",
      " 'Junior Marketing Analyst' 'Office Manager' 'Principal Engineer'\n",
      " 'Junior HR Generalist' 'Senior Product Manager'\n",
      " 'Junior Operations Analyst' 'Senior HR Generalist'\n",
      " 'Sales Operations Manager' 'Senior Software Developer'\n",
      " 'Junior Web Designer' 'Senior Training Specialist'\n",
      " 'Senior Research Scientist' 'Junior Sales Representative'\n",
      " 'Junior Marketing Manager' 'Junior Data Analyst'\n",
      " 'Senior Product Marketing Manager' 'Junior Business Analyst'\n",
      " 'Senior Sales Manager' 'Junior Marketing Specialist'\n",
      " 'Junior Project Manager' 'Senior Accountant' 'Director of Sales'\n",
      " 'Junior Recruiter' 'Senior Business Development Manager'\n",
      " 'Senior Product Designer' 'Junior Customer Support Specialist'\n",
      " 'Senior IT Support Specialist' 'Junior Financial Analyst'\n",
      " 'Senior Operations Manager' 'Director of Human Resources'\n",
      " 'Junior Software Engineer' 'Senior Sales Representative'\n",
      " 'Director of Product Management' 'Junior Copywriter'\n",
      " 'Senior Marketing Coordinator' 'Senior Human Resources Manager'\n",
      " 'Junior Business Development Associate' 'Senior Account Manager'\n",
      " 'Senior Researcher' 'Junior HR Coordinator' 'Director of Finance'\n",
      " 'Junior Marketing Coordinator' 'Junior Data Scientist'\n",
      " 'Senior Operations Analyst' 'Senior Human Resources Coordinator'\n",
      " 'Senior UX Designer' 'Junior Product Manager'\n",
      " 'Senior Marketing Specialist' 'Senior IT Project Manager'\n",
      " 'Senior Quality Assurance Analyst' 'Director of Sales and Marketing'\n",
      " 'Senior Account Executive' 'Director of Business Development'\n",
      " 'Junior Social Media Manager' 'Senior Human Resources Specialist'\n",
      " 'Senior Data Analyst' 'Director of Human Capital'\n",
      " 'Junior Advertising Coordinator' 'Junior UX Designer'\n",
      " 'Senior Marketing Director' 'Senior IT Consultant'\n",
      " 'Senior Financial Advisor' 'Junior Business Operations Analyst'\n",
      " 'Junior Social Media Specialist' 'Senior Product Development Manager'\n",
      " 'Junior Operations Manager' 'Senior Software Architect'\n",
      " 'Junior Research Scientist' 'Senior Financial Manager'\n",
      " 'Senior HR Specialist' 'Senior Data Engineer'\n",
      " 'Junior Operations Coordinator' 'Director of HR'\n",
      " 'Senior Operations Coordinator' 'Junior Financial Advisor'\n",
      " 'Director of Engineering']\n",
      "\n",
      "Value counts for 'Age':\n",
      "Age\n",
      "23.0     1\n",
      "24.0     1\n",
      "25.0     4\n",
      "26.0     7\n",
      "27.0     9\n",
      "28.0    13\n",
      "29.0    23\n",
      "30.0    15\n",
      "31.0    21\n",
      "32.0    12\n",
      "33.0    24\n",
      "34.0    17\n",
      "35.0    22\n",
      "36.0    20\n",
      "37.0    12\n",
      "38.0    15\n",
      "39.0    12\n",
      "40.0    13\n",
      "41.0    12\n",
      "42.0    11\n",
      "43.0    12\n",
      "44.0    21\n",
      "45.0    17\n",
      "46.0    10\n",
      "47.0    15\n",
      "48.0     9\n",
      "49.0     8\n",
      "50.0     8\n",
      "51.0     5\n",
      "52.0     3\n",
      "53.0     1\n",
      "Name: count, dtype: int64\n",
      "\n",
      "Value counts for 'Years of Experience':\n",
      "Years of Experience\n",
      "0.0      3\n",
      "0.5      1\n",
      "1.0      7\n",
      "1.5     12\n",
      "2.0     31\n",
      "3.0     30\n",
      "4.0     20\n",
      "5.0     17\n",
      "6.0     12\n",
      "7.0     18\n",
      "8.0     25\n",
      "9.0     22\n",
      "10.0    18\n",
      "11.0    10\n",
      "12.0    15\n",
      "13.0    11\n",
      "14.0    13\n",
      "15.0    16\n",
      "16.0    18\n",
      "17.0     5\n",
      "18.0    13\n",
      "19.0    15\n",
      "20.0    13\n",
      "21.0    13\n",
      "22.0     9\n",
      "23.0     2\n",
      "24.0     1\n",
      "25.0     3\n",
      "Name: count, dtype: int64\n",
      "\n",
      "Value counts for 'Salary':\n",
      "Salary\n",
      "350.0        1\n",
      "30000.0      1\n",
      "35000.0     13\n",
      "40000.0     31\n",
      "45000.0     18\n",
      "50000.0     22\n",
      "55000.0     10\n",
      "60000.0     17\n",
      "65000.0      9\n",
      "70000.0      9\n",
      "75000.0      4\n",
      "80000.0     12\n",
      "85000.0     10\n",
      "90000.0     18\n",
      "95000.0     22\n",
      "100000.0    14\n",
      "105000.0     6\n",
      "110000.0    17\n",
      "115000.0     3\n",
      "120000.0    20\n",
      "125000.0     1\n",
      "130000.0    14\n",
      "135000.0     2\n",
      "140000.0    14\n",
      "145000.0     1\n",
      "150000.0    18\n",
      "155000.0     1\n",
      "160000.0    17\n",
      "170000.0    16\n",
      "175000.0     2\n",
      "180000.0    20\n",
      "185000.0     1\n",
      "190000.0     4\n",
      "200000.0     2\n",
      "220000.0     1\n",
      "250000.0     2\n",
      "Name: count, dtype: int64\n",
      "\n"
     ]
    }
   ],
   "source": [
    "# Get detailed info on the dataset\n",
    "\n",
    "# For character (object) columns: get all distinct values\n",
    "char_cols = data.select_dtypes(include='object').columns\n",
    "for col in char_cols:\n",
    "    print(f\"Distinct values in '{col}':\")\n",
    "    print(data[col].unique())\n",
    "    print()\n",
    "\n",
    "# For integer/float columns: group by unique values and count occurrences\n",
    "num_cols = data.select_dtypes(include=['int64', 'float64']).columns\n",
    "for col in num_cols:\n",
    "    print(f\"Value counts for '{col}':\")\n",
    "    print(data[col].value_counts().sort_index())\n",
    "    print()"
   ]
  },
  {
   "cell_type": "code",
   "execution_count": 16,
   "id": "4094dfe7",
   "metadata": {},
   "outputs": [],
   "source": [
    "# defining the target and features\n",
    "# 'Salary' is the target variable for prediction and the rest are features\n",
    "y = data[\"Salary\"]\n",
    "X = data[[\"Age\", \"Gender\", \"Education Level\", \"Job Title\", \"Years of Experience\"]]"
   ]
  },
  {
   "cell_type": "code",
   "execution_count": 26,
   "id": "c08dbbb1",
   "metadata": {},
   "outputs": [],
   "source": [
    "categorical_features = [\"Gender\", \"Education Level\", \"Job Title\"]\n",
    "numerical_features = [\"Age\", \"Years of Experience\"]\n",
    "\n",
    "preprocessor = make_column_transformer(\n",
    "    (OneHotEncoder(drop=\"first\", sparse_output=False, handle_unknown='ignore'), categorical_features),\n",
    "    remainder=\"passthrough\"  # keep numerical features as-is\n",
    ")"
   ]
  },
  {
   "cell_type": "code",
   "execution_count": 27,
   "id": "4843dadd",
   "metadata": {},
   "outputs": [],
   "source": [
    "#building the pipeline with linear regression model\n",
    "model = Pipeline(steps=[\n",
    "    (\"preprocess\", preprocessor),\n",
    "    (\"regressor\", LinearRegression())\n",
    "])"
   ]
  },
  {
   "cell_type": "code",
   "execution_count": 28,
   "id": "a2296582",
   "metadata": {},
   "outputs": [],
   "source": [
    "#Splitting the dataset into training and testing sets\n",
    "X_train, X_test, y_train, y_test = train_test_split(X, y, test_size=0.2, random_state=42)"
   ]
  },
  {
   "cell_type": "code",
   "execution_count": 29,
   "id": "be8d7f54",
   "metadata": {},
   "outputs": [
    {
     "name": "stderr",
     "output_type": "stream",
     "text": [
      "c:\\Users\\mehul\\anaconda3\\envs\\pyenv\\lib\\site-packages\\sklearn\\preprocessing\\_encoders.py:227: UserWarning: Found unknown categories in columns [2] during transform. These unknown categories will be encoded as all zeros\n",
      "  warnings.warn(\n"
     ]
    }
   ],
   "source": [
    "#Training the model and evaluating it\n",
    "model.fit(X_train, y_train)\n",
    "y_pred = model.predict(X_test)"
   ]
  },
  {
   "cell_type": "code",
   "execution_count": 30,
   "id": "9ad0f719",
   "metadata": {},
   "outputs": [
    {
     "name": "stdout",
     "output_type": "stream",
     "text": [
      "\n",
      "Model with Education Level:\n",
      "Mean Absolute Error: 12226.502499113429\n",
      "R^2 Score: 0.8029241078001148\n"
     ]
    }
   ],
   "source": [
    "# Evaluation metrics\n",
    "mae = mean_absolute_error(y_test, y_pred)\n",
    "r2 = r2_score(y_test, y_pred)\n",
    "print(\"\\nModel with Education Level:\")\n",
    "print(f\"Mean Absolute Error: {mae}\")\n",
    "print(f\"R^2 Score: {r2}\")"
   ]
  },
  {
   "cell_type": "code",
   "execution_count": 31,
   "id": "3fcdccf7",
   "metadata": {},
   "outputs": [],
   "source": [
    "X_test_copy = X_test.copy()\n",
    "X_test_copy[\"Predicted Salary\"] = y_pred\n",
    "X_test_copy[\"Actual Salary\"] = y_test.values\n",
    "X_test_copy.to_csv(\"salary_predictions_with_education.csv\", index=False)"
   ]
  },
  {
   "cell_type": "code",
   "execution_count": null,
   "id": "e78ea192",
   "metadata": {},
   "outputs": [],
   "source": [
    "# Now we will drop the 'Education Level' column from the features to see how the model performs without it\n",
    "X_no_edu = X.drop(columns=[\"Education Level\"])"
   ]
  },
  {
   "cell_type": "code",
   "execution_count": 33,
   "id": "77d746ef",
   "metadata": {},
   "outputs": [],
   "source": [
    "#Updating the categorical features list to exclude 'Education Level'\n",
    "categorical_no_edu = [\"Gender\", \"Job Title\"]"
   ]
  },
  {
   "cell_type": "code",
   "execution_count": 34,
   "id": "3cf4ada9",
   "metadata": {},
   "outputs": [],
   "source": [
    "preprocessor_no_edu = make_column_transformer(\n",
    "    (OneHotEncoder(drop=\"first\", sparse_output=False, handle_unknown='ignore'), categorical_no_edu),\n",
    "    remainder=\"passthrough\"  # keep numerical features as-is\n",
    ")"
   ]
  },
  {
   "cell_type": "code",
   "execution_count": null,
   "id": "f658e880",
   "metadata": {},
   "outputs": [],
   "source": [
    "# Building the pipeline without 'Education Level'\n",
    "model_no_edu = Pipeline(steps=[\n",
    "    (\"preprocess\", preprocessor_no_edu),\n",
    "    (\"regressor\", LinearRegression())\n",
    "])"
   ]
  },
  {
   "cell_type": "code",
   "execution_count": 37,
   "id": "f3c178bd",
   "metadata": {},
   "outputs": [],
   "source": [
    "# Splitting the dataset into training and testing sets without 'Education Level'\n",
    "X_train2, X_test2, y_train2, y_test2 = train_test_split(X_no_edu, y, test_size=0.2, random_state=42)"
   ]
  },
  {
   "cell_type": "code",
   "execution_count": 38,
   "id": "58659572",
   "metadata": {},
   "outputs": [
    {
     "name": "stdout",
     "output_type": "stream",
     "text": [
      "\n",
      "Model without Education Level:\n",
      "Mean Absolute Error: 13121.32\n",
      "R² Score: 0.7945\n"
     ]
    },
    {
     "name": "stderr",
     "output_type": "stream",
     "text": [
      "c:\\Users\\mehul\\anaconda3\\envs\\pyenv\\lib\\site-packages\\sklearn\\preprocessing\\_encoders.py:227: UserWarning: Found unknown categories in columns [1] during transform. These unknown categories will be encoded as all zeros\n",
      "  warnings.warn(\n"
     ]
    }
   ],
   "source": [
    "# Training and evaluating the model without 'Education Level'\n",
    "model_no_edu.fit(X_train2, y_train2)\n",
    "y_pred2 = model_no_edu.predict(X_test2)\n",
    "\n",
    "# Evaluation metrics for the model without 'Education Level'\n",
    "mae2 = mean_absolute_error(y_test2, y_pred2)\n",
    "r2_2 = r2_score(y_test2, y_pred2)\n",
    "\n",
    "print(\"\\nModel without Education Level:\")\n",
    "print(f\"Mean Absolute Error: {mae2:.2f}\")\n",
    "print(f\"R² Score: {r2_2:.4f}\")"
   ]
  },
  {
   "cell_type": "code",
   "execution_count": 39,
   "id": "5fc36f4c",
   "metadata": {},
   "outputs": [],
   "source": [
    "X_test2_copy = X_test2.copy()\n",
    "X_test2_copy[\"Predicted Salary\"] = y_pred2\n",
    "X_test2_copy[\"Actual Salary\"] = y_test2.values\n",
    "X_test2_copy.to_csv(\"salary_predictions_without_education.csv\", index=False)"
   ]
  },
  {
   "cell_type": "code",
   "execution_count": null,
   "id": "c10fc0f3",
   "metadata": {},
   "outputs": [
    {
     "data": {
      "image/png": "[encoded data removed]",
      "text/plain": [
       "<Figure size 800x600 with 2 Axes>"
      ]
     },
     "metadata": {},
     "output_type": "display_data"
    }
   ],
   "source": [
    "# Visualizing the correlation matrix for numerical features only\n",
    "plt.figure(figsize=(8, 6))\n",
    "sns.heatmap(data.corr(numeric_only=True), annot=True, cmap=\"coolwarm\")\n",
    "plt.title(\"Correlation Matrix (Numerical Features Only)\")\n",
    "plt.tight_layout()\n",
    "plt.show()"
   ]
  },
  {
   "cell_type": "code",
   "execution_count": 45,
   "id": "303c0eef",
   "metadata": {},
   "outputs": [],
   "source": [
    "#Extracting feature names after encoding\n",
    "encoded_feature_names = model.named_steps[\"preprocess\"].get_feature_names_out()"
   ]
  },
  {
   "cell_type": "code",
   "execution_count": 46,
   "id": "ca12b2a5",
   "metadata": {},
   "outputs": [],
   "source": [
    "# Combine names with coefficients\n",
    "coefficients = model.named_steps[\"regressor\"].coef_\n",
    "feature_importance = pd.Series(coefficients, index=encoded_feature_names)\n",
    "feature_importance = feature_importance.sort_values(key=abs, ascending=False)"
   ]
  },
  {
   "cell_type": "code",
   "execution_count": null,
   "id": "87042306",
   "metadata": {},
   "outputs": [
    {
     "name": "stdout",
     "output_type": "stream",
     "text": [
      "\n",
      "Top Influential Features (with Education):\n",
      "onehotencoder__Job Title_Chief Technology Officer     106226.008245\n",
      "onehotencoder__Job Title_Chief Data Officer           105191.032055\n",
      "onehotencoder__Job Title_VP of Finance                 82088.532218\n",
      "onehotencoder__Job Title_VP of Operations              72088.532218\n",
      "onehotencoder__Job Title_Operations Director           70754.820653\n",
      "onehotencoder__Job Title_Director                      68559.225159\n",
      "onehotencoder__Job Title_Director of Sales             62042.871760\n",
      "onehotencoder__Job Title_Director of HR                59299.482325\n",
      "onehotencoder__Job Title_Director of Marketing         57251.372563\n",
      "onehotencoder__Job Title_Director of Human Capital     55678.854349\n",
      "dtype: float64\n"
     ]
    }
   ],
   "source": [
    "print(\"\\nTop Influential Features (with Education):\")\n",
    "print(feature_importance.head(10))"
   ]
  },
  {
   "cell_type": "code",
   "execution_count": 48,
   "id": "9f5ae200",
   "metadata": {},
   "outputs": [
    {
     "data": {
      "image/png": "[encoded data removed]",
      "text/plain": [
       "<Figure size 640x480 with 1 Axes>"
      ]
     },
     "metadata": {},
     "output_type": "display_data"
    }
   ],
   "source": [
    "feature_importance.head(10).plot(kind=\"barh\")\n",
    "plt.title(\"Top 10 Influential Features (Education Model)\")\n",
    "plt.xlabel(\"Coefficient Value (Impact on Salary)\")\n",
    "plt.gca().invert_yaxis()\n",
    "plt.tight_layout()\n",
    "plt.show()"
   ]
  }
 ],
 "metadata": {
  "kernelspec": {
   "display_name": "pyenv",
   "language": "python",
   "name": "python3"
  },
  "language_info": {
   "codemirror_mode": {
    "name": "ipython",
    "version": 3
   },
   "file_extension": ".py",
   "mimetype": "text/x-python",
   "name": "python",
   "nbconvert_exporter": "python",
   "pygments_lexer": "ipython3",
   "version": "3.10.18"
  }
 },
 "nbformat": 4,
 "nbformat_minor": 5
}
